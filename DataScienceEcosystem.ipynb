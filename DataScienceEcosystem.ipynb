{
 "cells": [
  {
   "cell_type": "markdown",
   "id": "f8ca8829-9fd6-44a8-84b9-8948fd2dc4a7",
   "metadata": {},
   "source": [
    "# Data Science Tools and Ecosytems"
   ]
  },
  {
   "cell_type": "markdown",
   "id": "f35ac50d-d4b6-45f6-8398-5dbe35a39ca2",
   "metadata": {},
   "source": [
    "In this notebook, Data Science Tools and Ecosytem are summarized"
   ]
  },
  {
   "cell_type": "markdown",
   "id": "7692723b-5fb6-4de6-80a6-38ee0e3e5169",
   "metadata": {},
   "source": [
    "Some of the popular languages that Data Scientists use are:\n",
    "1. Python\n",
    "2. R\n",
    "3. SQL\n",
    "4. Julia"
   ]
  },
  {
   "cell_type": "code",
   "execution_count": null,
   "id": "bbb91e8f-c7ee-46ea-9c9f-385c6fbc02bf",
   "metadata": {},
   "outputs": [],
   "source": [
    "Some of the commonly used libraries used by Data Scientists include:\n",
    "1. Pandas\n",
    "2. Numpy\n",
    "3. Scikit-learn\n",
    "4. TensorFlow\n",
    "5. Matplotlib"
   ]
  },
  {
   "cell_type": "markdown",
   "id": "9ccd8f55-b238-4421-b18c-37a5ad24a9b7",
   "metadata": {},
   "source": [
    "|Data Science Tools|\n",
    "|------------------|\n",
    "| Jupyter Notebook|\n",
    "| RStudio|\n",
    "| Apache Zepplin|"
   ]
  },
  {
   "cell_type": "markdown",
   "id": "8001e718-a6c6-4f18-ae6c-e2ac5b06a11e",
   "metadata": {},
   "source": [
    "### Below are a few examples of evaluating arithnetic expressions in Python"
   ]
  },
  {
   "cell_type": "markdown",
   "id": "b3ffa835-505c-4c10-8b94-c26c9c1af304",
   "metadata": {},
   "source": [
    "This is a simple arithmetic expression to multiply then add integers\n"
   ]
  },
  {
   "cell_type": "code",
   "execution_count": 5,
   "id": "1a97e2c9-68d7-4b0a-9338-f0978665a373",
   "metadata": {},
   "outputs": [
    {
     "data": {
      "text/plain": [
       "17"
      ]
     },
     "execution_count": 5,
     "metadata": {},
     "output_type": "execute_result"
    }
   ],
   "source": [
    "(3*4)+5"
   ]
  },
  {
   "cell_type": "markdown",
   "id": "2f715a12-5163-4d9d-afdf-2f86a8e1b6d6",
   "metadata": {},
   "source": [
    "This will convert 200 minutes to hours by dividing by 60"
   ]
  },
  {
   "cell_type": "code",
   "execution_count": 6,
   "id": "9e803256-98ac-4091-b44e-9ec9519f7527",
   "metadata": {},
   "outputs": [
    {
     "data": {
      "text/plain": [
       "3.3333333333333335"
      ]
     },
     "execution_count": 6,
     "metadata": {},
     "output_type": "execute_result"
    }
   ],
   "source": [
    "200/60"
   ]
  },
  {
   "cell_type": "markdown",
   "id": "5fff4e37-e0f6-49c3-b014-e5c6511dc6de",
   "metadata": {},
   "source": [
    "__Objectives:__  \n",
    "* List popular languages for Data Science\n",
    "* List commonly used libraries for Data Science\n",
    "* List commonly used Tools for Data Science"
   ]
  },
  {
   "cell_type": "markdown",
   "id": "83982586-7c18-48a5-9cc7-dd66eca9d71e",
   "metadata": {},
   "source": [
    "## Author\n",
    "David F"
   ]
  },
  {
   "cell_type": "code",
   "execution_count": null,
   "id": "0e2177ab-ca6f-4ae2-be44-b94a6f59c113",
   "metadata": {},
   "outputs": [],
   "source": []
  }
 ],
 "metadata": {
  "kernelspec": {
   "display_name": "Python 3 (ipykernel)",
   "language": "python",
   "name": "python3"
  },
  "language_info": {
   "codemirror_mode": {
    "name": "ipython",
    "version": 3
   },
   "file_extension": ".py",
   "mimetype": "text/x-python",
   "name": "python",
   "nbconvert_exporter": "python",
   "pygments_lexer": "ipython3",
   "version": "3.11.7"
  }
 },
 "nbformat": 4,
 "nbformat_minor": 5
}
